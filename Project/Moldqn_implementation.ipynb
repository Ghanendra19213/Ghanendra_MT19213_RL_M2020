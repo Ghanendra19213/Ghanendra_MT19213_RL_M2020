{
 "cells": [
  {
   "cell_type": "markdown",
   "metadata": {},
   "source": [
    "# RL Project\n",
    "## Optimization of Molecules using RL\n",
    "### Implementation of source code on system"
   ]
  },
  {
   "cell_type": "markdown",
   "metadata": {},
   "source": [
    "###### Install tensorboard"
   ]
  },
  {
   "cell_type": "code",
   "execution_count": 1,
   "metadata": {},
   "outputs": [],
   "source": [
    "# Installation of Tensorboard\n",
    "# https://github.com/lspvic/jupyter_tensorboard\n",
    "# Follow the steps in the above link.\n",
    "# pip3 install jupyter-tensorboard, for python3 version"
   ]
  },
  {
   "cell_type": "markdown",
   "metadata": {},
   "source": [
    "###### Run main.py file"
   ]
  },
  {
   "cell_type": "code",
   "execution_count": 12,
   "metadata": {
    "scrolled": false
   },
   "outputs": [
    {
     "name": "stdout",
     "output_type": "stream",
     "text": [
      "reward of final molecule at episode 4 is 0.31040725581791073\n",
      "mean loss in episode 4 is 0.017395369708538055\n",
      "reward of final molecule at episode 6 is 0.05006918451628097\n",
      "mean loss in episode 6 is 0.014127958100289106\n",
      "reward of final molecule at episode 8 is 0.09862206400242948\n",
      "mean loss in episode 8 is 0.008324186783283949\n",
      "reward of final molecule at episode 10 is 0.25726268277541725\n",
      "mean loss in episode 10 is 0.0076494766399264336\n",
      "reward of final molecule at episode 12 is 0.23318081921359546\n",
      "mean loss in episode 12 is 0.005511112045496702\n",
      "reward of final molecule at episode 14 is 0.3217655636036184\n",
      "mean loss in episode 14 is 0.003988132462836802\n",
      "reward of final molecule at episode 16 is 0.10523339344449659\n",
      "mean loss in episode 16 is 0.0035165782319381833\n",
      "reward of final molecule at episode 18 is 0.4245942395288307\n",
      "mean loss in episode 18 is 0.0029764999635517597\n",
      "reward of final molecule at episode 20 is 0.23507634136255084\n",
      "mean loss in episode 20 is 0.002828228403814137\n",
      "reward of final molecule at episode 22 is 0.1155998609417378\n",
      "mean loss in episode 22 is 0.002692709444090724\n",
      "reward of final molecule at episode 24 is 0.2796735097922008\n",
      "mean loss in episode 24 is 0.002170377178117633\n",
      "reward of final molecule at episode 26 is 0.1488440738979674\n",
      "mean loss in episode 26 is 0.001708655501715839\n",
      "reward of final molecule at episode 28 is 0.11747016527052928\n",
      "mean loss in episode 28 is 0.0019412834662944078\n",
      "reward of final molecule at episode 30 is 0.09687500032892588\n",
      "mean loss in episode 30 is 0.0006476527487393469\n",
      "reward of final molecule at episode 32 is 0.13327639210845074\n",
      "mean loss in episode 32 is 0.0008179289288818836\n",
      "reward of final molecule at episode 34 is 0.22849570944146969\n",
      "mean loss in episode 34 is 0.0011094009678345174\n",
      "reward of final molecule at episode 36 is 0.10801259125136137\n",
      "mean loss in episode 36 is 0.0010722138104029\n",
      "reward of final molecule at episode 38 is 0.1475734918723728\n",
      "mean loss in episode 38 is 0.0010913681180682033\n",
      "reward of final molecule at episode 40 is 0.053022287360599364\n",
      "mean loss in episode 40 is 0.0005455319187603891\n",
      "reward of final molecule at episode 42 is 0.2720372327404293\n",
      "mean loss in episode 42 is 0.0011034506023861468\n",
      "reward of final molecule at episode 44 is 0.6270499178015034\n",
      "mean loss in episode 44 is 0.0006318953674053773\n",
      "reward of final molecule at episode 46 is 0.25188502240336796\n",
      "mean loss in episode 46 is 0.000912666117073968\n",
      "reward of final molecule at episode 48 is 0.1564986732802959\n",
      "mean loss in episode 48 is 0.0007487483671866357\n",
      "reward of final molecule at episode 50 is 0.39969988354842356\n",
      "mean loss in episode 50 is 0.000810300960438326\n",
      "reward of final molecule at episode 52 is 0.053224537267579065\n",
      "mean loss in episode 52 is 0.001012117078062147\n",
      "reward of final molecule at episode 54 is 0.13769524248355813\n",
      "mean loss in episode 54 is 0.0007343119941651821\n",
      "reward of final molecule at episode 56 is 0.23097988499503075\n",
      "mean loss in episode 56 is 0.00038737169961677864\n",
      "reward of final molecule at episode 58 is 0.06301920923516251\n",
      "mean loss in episode 58 is 0.0008828848949633539\n",
      "reward of final molecule at episode 60 is 0.224753011249095\n",
      "mean loss in episode 60 is 0.0008985219756141305\n",
      "reward of final molecule at episode 62 is 0.08221447380151056\n",
      "mean loss in episode 62 is 0.0004644504078896716\n",
      "reward of final molecule at episode 64 is 0.554187918127651\n",
      "mean loss in episode 64 is 0.00031307006429415196\n",
      "reward of final molecule at episode 66 is 0.24831088794254286\n",
      "mean loss in episode 66 is 0.0006817581597715616\n",
      "reward of final molecule at episode 68 is 0.33201806061592676\n",
      "mean loss in episode 68 is 0.0008892401529010385\n",
      "reward of final molecule at episode 70 is 0.47014107695136775\n",
      "mean loss in episode 70 is 0.0008902966801542789\n",
      "reward of final molecule at episode 72 is 0.14084880156493154\n",
      "mean loss in episode 72 is 0.00022820249432697892\n",
      "reward of final molecule at episode 74 is 0.32957219163950785\n",
      "mean loss in episode 74 is 0.0006910472002346069\n",
      "reward of final molecule at episode 76 is 0.16108637790903121\n",
      "mean loss in episode 76 is 0.0003816437238128856\n",
      "reward of final molecule at episode 78 is 0.18007427908914\n",
      "mean loss in episode 78 is 0.0003449653013376519\n",
      "reward of final molecule at episode 80 is 0.48970705540278103\n",
      "mean loss in episode 80 is 0.0008778867195360363\n",
      "reward of final molecule at episode 82 is 0.4219278689682405\n",
      "mean loss in episode 82 is 0.000589558738283813\n",
      "reward of final molecule at episode 84 is 0.09682615145123803\n",
      "mean loss in episode 84 is 0.0004691897192969918\n",
      "reward of final molecule at episode 86 is 0.4139679842414044\n",
      "mean loss in episode 86 is 0.00037882314063608646\n",
      "reward of final molecule at episode 88 is 0.6801503353763683\n",
      "mean loss in episode 88 is 0.0006768837047275156\n",
      "reward of final molecule at episode 90 is 0.2486916425947935\n",
      "mean loss in episode 90 is 0.0003266378625994548\n",
      "reward of final molecule at episode 92 is 0.642011520729355\n",
      "mean loss in episode 92 is 0.0007216614030767232\n",
      "reward of final molecule at episode 94 is 0.6183623317665116\n",
      "mean loss in episode 94 is 0.0005958479596301913\n",
      "reward of final molecule at episode 96 is 0.525480558582244\n",
      "mean loss in episode 96 is 0.0005825471453135833\n",
      "reward of final molecule at episode 98 is 0.5354294182386501\n",
      "mean loss in episode 98 is 0.0007304218015633523\n"
     ]
    }
   ],
   "source": [
    "# Run the main file present in the home directory.\n",
    "#Runnning for only 24 episodes\n",
    "!python main.py"
   ]
  },
  {
   "cell_type": "markdown",
   "metadata": {},
   "source": [
    "###### Sample molecule from SMILES"
   ]
  },
  {
   "cell_type": "code",
   "execution_count": 1,
   "metadata": {},
   "outputs": [],
   "source": [
    "# Sample molecude\n",
    "from rdkit import Chem\n",
    "from rdkit.Chem.Draw import IPythonConsole\n",
    "from rdkit.Chem import Draw\n",
    "IPythonConsole.ipython_useSVG=True"
   ]
  },
  {
   "cell_type": "markdown",
   "metadata": {},
   "source": [
    "##### Ignore the NameError"
   ]
  },
  {
   "cell_type": "code",
   "execution_count": 67,
   "metadata": {},
   "outputs": [
    {
     "ename": "NameError",
     "evalue": "name 'kekulize' is not defined",
     "output_type": "error",
     "traceback": [
      "\u001b[1;31m---------------------------------------------------------------------------\u001b[0m",
      "\u001b[1;31mNameError\u001b[0m                                 Traceback (most recent call last)",
      "\u001b[1;32mc:\\users\\ghanendra\\pymol\\envs\\my-rdkit-env\\lib\\site-packages\\IPython\\core\\formatters.py\u001b[0m in \u001b[0;36m__call__\u001b[1;34m(self, obj)\u001b[0m\n\u001b[0;32m    343\u001b[0m             \u001b[0mmethod\u001b[0m \u001b[1;33m=\u001b[0m \u001b[0mget_real_method\u001b[0m\u001b[1;33m(\u001b[0m\u001b[0mobj\u001b[0m\u001b[1;33m,\u001b[0m \u001b[0mself\u001b[0m\u001b[1;33m.\u001b[0m\u001b[0mprint_method\u001b[0m\u001b[1;33m)\u001b[0m\u001b[1;33m\u001b[0m\u001b[1;33m\u001b[0m\u001b[0m\n\u001b[0;32m    344\u001b[0m             \u001b[1;32mif\u001b[0m \u001b[0mmethod\u001b[0m \u001b[1;32mis\u001b[0m \u001b[1;32mnot\u001b[0m \u001b[1;32mNone\u001b[0m\u001b[1;33m:\u001b[0m\u001b[1;33m\u001b[0m\u001b[1;33m\u001b[0m\u001b[0m\n\u001b[1;32m--> 345\u001b[1;33m                 \u001b[1;32mreturn\u001b[0m \u001b[0mmethod\u001b[0m\u001b[1;33m(\u001b[0m\u001b[1;33m)\u001b[0m\u001b[1;33m\u001b[0m\u001b[1;33m\u001b[0m\u001b[0m\n\u001b[0m\u001b[0;32m    346\u001b[0m             \u001b[1;32mreturn\u001b[0m \u001b[1;32mNone\u001b[0m\u001b[1;33m\u001b[0m\u001b[1;33m\u001b[0m\u001b[0m\n\u001b[0;32m    347\u001b[0m         \u001b[1;32melse\u001b[0m\u001b[1;33m:\u001b[0m\u001b[1;33m\u001b[0m\u001b[1;33m\u001b[0m\u001b[0m\n",
      "\u001b[1;32mc:\\users\\ghanendra\\pymol\\envs\\my-rdkit-env\\lib\\site-packages\\rdkit\\Chem\\Draw\\IPythonConsole.py\u001b[0m in \u001b[0;36m_toSVG\u001b[1;34m(mol)\u001b[0m\n\u001b[0;32m    113\u001b[0m   \u001b[1;32melse\u001b[0m\u001b[1;33m:\u001b[0m\u001b[1;33m\u001b[0m\u001b[1;33m\u001b[0m\u001b[0m\n\u001b[0;32m    114\u001b[0m     \u001b[0mhighlightAtoms\u001b[0m \u001b[1;33m=\u001b[0m \u001b[1;33m[\u001b[0m\u001b[1;33m]\u001b[0m\u001b[1;33m\u001b[0m\u001b[1;33m\u001b[0m\u001b[0m\n\u001b[1;32m--> 115\u001b[1;33m   \u001b[1;32mreturn\u001b[0m \u001b[0mDraw\u001b[0m\u001b[1;33m.\u001b[0m\u001b[0m_moltoSVG\u001b[0m\u001b[1;33m(\u001b[0m\u001b[0mmol\u001b[0m\u001b[1;33m,\u001b[0m\u001b[0mmolSize\u001b[0m\u001b[1;33m,\u001b[0m\u001b[0mhighlightAtoms\u001b[0m\u001b[1;33m,\u001b[0m\u001b[1;34m\"\"\u001b[0m\u001b[1;33m,\u001b[0m\u001b[0mkekulize\u001b[0m\u001b[1;33m)\u001b[0m\u001b[1;33m\u001b[0m\u001b[1;33m\u001b[0m\u001b[0m\n\u001b[0m\u001b[0;32m    116\u001b[0m \u001b[1;33m\u001b[0m\u001b[0m\n\u001b[0;32m    117\u001b[0m \u001b[1;33m\u001b[0m\u001b[0m\n",
      "\u001b[1;31mNameError\u001b[0m: name 'kekulize' is not defined"
     ]
    },
    {
     "data": {
      "image/png": "[encoded data removed]",
      "text/plain": [
       "<rdkit.Chem.rdchem.Mol at 0x19f9580ac60>"
      ]
     },
     "execution_count": 67,
     "metadata": {},
     "output_type": "execute_result"
    }
   ],
   "source": [
    "# m represent a molecule\n",
    "m = Chem.MolFromSmiles('CCOC1(C)ON1C(=N)C(C)CNN')\n",
    "m"
   ]
  },
  {
   "cell_type": "code",
   "execution_count": 4,
   "metadata": {},
   "outputs": [],
   "source": [
    "from rdkit.Chem import Descriptors"
   ]
  },
  {
   "cell_type": "code",
   "execution_count": 6,
   "metadata": {},
   "outputs": [],
   "source": [
    "import sascorer"
   ]
  },
  {
   "cell_type": "code",
   "execution_count": 7,
   "metadata": {},
   "outputs": [],
   "source": [
    "def get_largest_ring_size(molecule):\n",
    "    \"\"\"Calculates the largest ring size in the molecule.\n",
    "  Refactored from\n",
    "  https://github.com/wengong-jin/icml18-jtnn/blob/master/bo/run_bo.py\n",
    "  Args:\n",
    "    molecule: Chem.Mol. A molecule.\n",
    "  Returns:\n",
    "    Integer. The largest ring size.\n",
    "  \"\"\"\n",
    "    cycle_list = molecule.GetRingInfo().AtomRings()\n",
    "    if cycle_list:\n",
    "        cycle_length = max([len(j) for j in cycle_list])\n",
    "    else:\n",
    "        cycle_length = 0\n",
    "    return cycle_length"
   ]
  },
  {
   "cell_type": "markdown",
   "metadata": {},
   "source": [
    "###### Penalized logP = logP - SA score (Synthetic Accessibility)"
   ]
  },
  {
   "cell_type": "code",
   "execution_count": 74,
   "metadata": {},
   "outputs": [
    {
     "data": {
      "text/plain": [
       "-6.693302502765343"
      ]
     },
     "execution_count": 74,
     "metadata": {},
     "output_type": "execute_result"
    }
   ],
   "source": [
    "#State at Iteration 79  Chemically valid Molecule\n",
    "m = Chem.MolFromSmiles('ONC1(c2noo[nH][nH]2)CON=C1O')\n",
    "m\n",
    "molecule = m\n",
    "log_p = Descriptors.MolLogP(molecule)\n",
    "sas_score = sascorer.calculateScore(molecule)\n",
    "largest_ring_size = get_largest_ring_size(molecule)\n",
    "cycle_score = max(largest_ring_size - 6, 0)\n",
    "log_p = (log_p - sas_score - cycle_score)\n",
    "log_p"
   ]
  },
  {
   "cell_type": "code",
   "execution_count": 54,
   "metadata": {},
   "outputs": [
    {
     "ename": "NameError",
     "evalue": "name 'kekulize' is not defined",
     "output_type": "error",
     "traceback": [
      "\u001b[1;31m---------------------------------------------------------------------------\u001b[0m",
      "\u001b[1;31mNameError\u001b[0m                                 Traceback (most recent call last)",
      "\u001b[1;32mc:\\users\\ghanendra\\pymol\\envs\\my-rdkit-env\\lib\\site-packages\\IPython\\core\\formatters.py\u001b[0m in \u001b[0;36m__call__\u001b[1;34m(self, obj)\u001b[0m\n\u001b[0;32m    343\u001b[0m             \u001b[0mmethod\u001b[0m \u001b[1;33m=\u001b[0m \u001b[0mget_real_method\u001b[0m\u001b[1;33m(\u001b[0m\u001b[0mobj\u001b[0m\u001b[1;33m,\u001b[0m \u001b[0mself\u001b[0m\u001b[1;33m.\u001b[0m\u001b[0mprint_method\u001b[0m\u001b[1;33m)\u001b[0m\u001b[1;33m\u001b[0m\u001b[1;33m\u001b[0m\u001b[0m\n\u001b[0;32m    344\u001b[0m             \u001b[1;32mif\u001b[0m \u001b[0mmethod\u001b[0m \u001b[1;32mis\u001b[0m \u001b[1;32mnot\u001b[0m \u001b[1;32mNone\u001b[0m\u001b[1;33m:\u001b[0m\u001b[1;33m\u001b[0m\u001b[1;33m\u001b[0m\u001b[0m\n\u001b[1;32m--> 345\u001b[1;33m                 \u001b[1;32mreturn\u001b[0m \u001b[0mmethod\u001b[0m\u001b[1;33m(\u001b[0m\u001b[1;33m)\u001b[0m\u001b[1;33m\u001b[0m\u001b[1;33m\u001b[0m\u001b[0m\n\u001b[0m\u001b[0;32m    346\u001b[0m             \u001b[1;32mreturn\u001b[0m \u001b[1;32mNone\u001b[0m\u001b[1;33m\u001b[0m\u001b[1;33m\u001b[0m\u001b[0m\n\u001b[0;32m    347\u001b[0m         \u001b[1;32melse\u001b[0m\u001b[1;33m:\u001b[0m\u001b[1;33m\u001b[0m\u001b[1;33m\u001b[0m\u001b[0m\n",
      "\u001b[1;32mc:\\users\\ghanendra\\pymol\\envs\\my-rdkit-env\\lib\\site-packages\\rdkit\\Chem\\Draw\\IPythonConsole.py\u001b[0m in \u001b[0;36m_toSVG\u001b[1;34m(mol)\u001b[0m\n\u001b[0;32m    113\u001b[0m   \u001b[1;32melse\u001b[0m\u001b[1;33m:\u001b[0m\u001b[1;33m\u001b[0m\u001b[1;33m\u001b[0m\u001b[0m\n\u001b[0;32m    114\u001b[0m     \u001b[0mhighlightAtoms\u001b[0m \u001b[1;33m=\u001b[0m \u001b[1;33m[\u001b[0m\u001b[1;33m]\u001b[0m\u001b[1;33m\u001b[0m\u001b[1;33m\u001b[0m\u001b[0m\n\u001b[1;32m--> 115\u001b[1;33m   \u001b[1;32mreturn\u001b[0m \u001b[0mDraw\u001b[0m\u001b[1;33m.\u001b[0m\u001b[0m_moltoSVG\u001b[0m\u001b[1;33m(\u001b[0m\u001b[0mmol\u001b[0m\u001b[1;33m,\u001b[0m\u001b[0mmolSize\u001b[0m\u001b[1;33m,\u001b[0m\u001b[0mhighlightAtoms\u001b[0m\u001b[1;33m,\u001b[0m\u001b[1;34m\"\"\u001b[0m\u001b[1;33m,\u001b[0m\u001b[0mkekulize\u001b[0m\u001b[1;33m)\u001b[0m\u001b[1;33m\u001b[0m\u001b[1;33m\u001b[0m\u001b[0m\n\u001b[0m\u001b[0;32m    116\u001b[0m \u001b[1;33m\u001b[0m\u001b[0m\n\u001b[0;32m    117\u001b[0m \u001b[1;33m\u001b[0m\u001b[0m\n",
      "\u001b[1;31mNameError\u001b[0m: name 'kekulize' is not defined"
     ]
    },
    {
     "data": {
      "image/png": "[encoded data removed]",
      "text/plain": [
       "<rdkit.Chem.rdchem.Mol at 0x19f958033f0>"
      ]
     },
     "execution_count": 54,
     "metadata": {},
     "output_type": "execute_result"
    }
   ],
   "source": [
    "m = Chem.MolFromSmiles('COn1[nH]c(=N)c(=NO)n1C(NO)OO')\n",
    "m"
   ]
  },
  {
   "cell_type": "code",
   "execution_count": 71,
   "metadata": {},
   "outputs": [
    {
     "ename": "NameError",
     "evalue": "name 'kekulize' is not defined",
     "output_type": "error",
     "traceback": [
      "\u001b[1;31m---------------------------------------------------------------------------\u001b[0m",
      "\u001b[1;31mNameError\u001b[0m                                 Traceback (most recent call last)",
      "\u001b[1;32mc:\\users\\ghanendra\\pymol\\envs\\my-rdkit-env\\lib\\site-packages\\IPython\\core\\formatters.py\u001b[0m in \u001b[0;36m__call__\u001b[1;34m(self, obj)\u001b[0m\n\u001b[0;32m    343\u001b[0m             \u001b[0mmethod\u001b[0m \u001b[1;33m=\u001b[0m \u001b[0mget_real_method\u001b[0m\u001b[1;33m(\u001b[0m\u001b[0mobj\u001b[0m\u001b[1;33m,\u001b[0m \u001b[0mself\u001b[0m\u001b[1;33m.\u001b[0m\u001b[0mprint_method\u001b[0m\u001b[1;33m)\u001b[0m\u001b[1;33m\u001b[0m\u001b[1;33m\u001b[0m\u001b[0m\n\u001b[0;32m    344\u001b[0m             \u001b[1;32mif\u001b[0m \u001b[0mmethod\u001b[0m \u001b[1;32mis\u001b[0m \u001b[1;32mnot\u001b[0m \u001b[1;32mNone\u001b[0m\u001b[1;33m:\u001b[0m\u001b[1;33m\u001b[0m\u001b[1;33m\u001b[0m\u001b[0m\n\u001b[1;32m--> 345\u001b[1;33m                 \u001b[1;32mreturn\u001b[0m \u001b[0mmethod\u001b[0m\u001b[1;33m(\u001b[0m\u001b[1;33m)\u001b[0m\u001b[1;33m\u001b[0m\u001b[1;33m\u001b[0m\u001b[0m\n\u001b[0m\u001b[0;32m    346\u001b[0m             \u001b[1;32mreturn\u001b[0m \u001b[1;32mNone\u001b[0m\u001b[1;33m\u001b[0m\u001b[1;33m\u001b[0m\u001b[0m\n\u001b[0;32m    347\u001b[0m         \u001b[1;32melse\u001b[0m\u001b[1;33m:\u001b[0m\u001b[1;33m\u001b[0m\u001b[1;33m\u001b[0m\u001b[0m\n",
      "\u001b[1;32mc:\\users\\ghanendra\\pymol\\envs\\my-rdkit-env\\lib\\site-packages\\rdkit\\Chem\\Draw\\IPythonConsole.py\u001b[0m in \u001b[0;36m_toSVG\u001b[1;34m(mol)\u001b[0m\n\u001b[0;32m    113\u001b[0m   \u001b[1;32melse\u001b[0m\u001b[1;33m:\u001b[0m\u001b[1;33m\u001b[0m\u001b[1;33m\u001b[0m\u001b[0m\n\u001b[0;32m    114\u001b[0m     \u001b[0mhighlightAtoms\u001b[0m \u001b[1;33m=\u001b[0m \u001b[1;33m[\u001b[0m\u001b[1;33m]\u001b[0m\u001b[1;33m\u001b[0m\u001b[1;33m\u001b[0m\u001b[0m\n\u001b[1;32m--> 115\u001b[1;33m   \u001b[1;32mreturn\u001b[0m \u001b[0mDraw\u001b[0m\u001b[1;33m.\u001b[0m\u001b[0m_moltoSVG\u001b[0m\u001b[1;33m(\u001b[0m\u001b[0mmol\u001b[0m\u001b[1;33m,\u001b[0m\u001b[0mmolSize\u001b[0m\u001b[1;33m,\u001b[0m\u001b[0mhighlightAtoms\u001b[0m\u001b[1;33m,\u001b[0m\u001b[1;34m\"\"\u001b[0m\u001b[1;33m,\u001b[0m\u001b[0mkekulize\u001b[0m\u001b[1;33m)\u001b[0m\u001b[1;33m\u001b[0m\u001b[1;33m\u001b[0m\u001b[0m\n\u001b[0m\u001b[0;32m    116\u001b[0m \u001b[1;33m\u001b[0m\u001b[0m\n\u001b[0;32m    117\u001b[0m \u001b[1;33m\u001b[0m\u001b[0m\n",
      "\u001b[1;31mNameError\u001b[0m: name 'kekulize' is not defined"
     ]
    },
    {
     "data": {
      "image/png": "[encoded data removed]",
      "text/plain": [
       "<rdkit.Chem.rdchem.Mol at 0x19f958117b0>"
      ]
     },
     "execution_count": 71,
     "metadata": {},
     "output_type": "execute_result"
    }
   ],
   "source": [
    "#State at Iteration 39  Chemically valid Molecule\n",
    "m = Chem.MolFromSmiles('C#CC1ONC(=NC2=NC2N)C1NC#N')\n",
    "m"
   ]
  },
  {
   "cell_type": "code",
   "execution_count": 73,
   "metadata": {},
   "outputs": [
    {
     "ename": "NameError",
     "evalue": "name 'kekulize' is not defined",
     "output_type": "error",
     "traceback": [
      "\u001b[1;31m---------------------------------------------------------------------------\u001b[0m",
      "\u001b[1;31mNameError\u001b[0m                                 Traceback (most recent call last)",
      "\u001b[1;32mc:\\users\\ghanendra\\pymol\\envs\\my-rdkit-env\\lib\\site-packages\\IPython\\core\\formatters.py\u001b[0m in \u001b[0;36m__call__\u001b[1;34m(self, obj)\u001b[0m\n\u001b[0;32m    343\u001b[0m             \u001b[0mmethod\u001b[0m \u001b[1;33m=\u001b[0m \u001b[0mget_real_method\u001b[0m\u001b[1;33m(\u001b[0m\u001b[0mobj\u001b[0m\u001b[1;33m,\u001b[0m \u001b[0mself\u001b[0m\u001b[1;33m.\u001b[0m\u001b[0mprint_method\u001b[0m\u001b[1;33m)\u001b[0m\u001b[1;33m\u001b[0m\u001b[1;33m\u001b[0m\u001b[0m\n\u001b[0;32m    344\u001b[0m             \u001b[1;32mif\u001b[0m \u001b[0mmethod\u001b[0m \u001b[1;32mis\u001b[0m \u001b[1;32mnot\u001b[0m \u001b[1;32mNone\u001b[0m\u001b[1;33m:\u001b[0m\u001b[1;33m\u001b[0m\u001b[1;33m\u001b[0m\u001b[0m\n\u001b[1;32m--> 345\u001b[1;33m                 \u001b[1;32mreturn\u001b[0m \u001b[0mmethod\u001b[0m\u001b[1;33m(\u001b[0m\u001b[1;33m)\u001b[0m\u001b[1;33m\u001b[0m\u001b[1;33m\u001b[0m\u001b[0m\n\u001b[0m\u001b[0;32m    346\u001b[0m             \u001b[1;32mreturn\u001b[0m \u001b[1;32mNone\u001b[0m\u001b[1;33m\u001b[0m\u001b[1;33m\u001b[0m\u001b[0m\n\u001b[0;32m    347\u001b[0m         \u001b[1;32melse\u001b[0m\u001b[1;33m:\u001b[0m\u001b[1;33m\u001b[0m\u001b[1;33m\u001b[0m\u001b[0m\n",
      "\u001b[1;32mc:\\users\\ghanendra\\pymol\\envs\\my-rdkit-env\\lib\\site-packages\\rdkit\\Chem\\Draw\\IPythonConsole.py\u001b[0m in \u001b[0;36m_toSVG\u001b[1;34m(mol)\u001b[0m\n\u001b[0;32m    113\u001b[0m   \u001b[1;32melse\u001b[0m\u001b[1;33m:\u001b[0m\u001b[1;33m\u001b[0m\u001b[1;33m\u001b[0m\u001b[0m\n\u001b[0;32m    114\u001b[0m     \u001b[0mhighlightAtoms\u001b[0m \u001b[1;33m=\u001b[0m \u001b[1;33m[\u001b[0m\u001b[1;33m]\u001b[0m\u001b[1;33m\u001b[0m\u001b[1;33m\u001b[0m\u001b[0m\n\u001b[1;32m--> 115\u001b[1;33m   \u001b[1;32mreturn\u001b[0m \u001b[0mDraw\u001b[0m\u001b[1;33m.\u001b[0m\u001b[0m_moltoSVG\u001b[0m\u001b[1;33m(\u001b[0m\u001b[0mmol\u001b[0m\u001b[1;33m,\u001b[0m\u001b[0mmolSize\u001b[0m\u001b[1;33m,\u001b[0m\u001b[0mhighlightAtoms\u001b[0m\u001b[1;33m,\u001b[0m\u001b[1;34m\"\"\u001b[0m\u001b[1;33m,\u001b[0m\u001b[0mkekulize\u001b[0m\u001b[1;33m)\u001b[0m\u001b[1;33m\u001b[0m\u001b[1;33m\u001b[0m\u001b[0m\n\u001b[0m\u001b[0;32m    116\u001b[0m \u001b[1;33m\u001b[0m\u001b[0m\n\u001b[0;32m    117\u001b[0m \u001b[1;33m\u001b[0m\u001b[0m\n",
      "\u001b[1;31mNameError\u001b[0m: name 'kekulize' is not defined"
     ]
    },
    {
     "data": {
      "image/png": "[encoded data removed]",
      "text/plain": [
       "<rdkit.Chem.rdchem.Mol at 0x19f95811c60>"
      ]
     },
     "execution_count": 73,
     "metadata": {},
     "output_type": "execute_result"
    }
   ],
   "source": [
    "#State at Iteration 79  Chemically valid Molecule\n",
    "m = Chem.MolFromSmiles('ONC1(c2noo[nH][nH]2)CON=C1O')\n",
    "m"
   ]
  },
  {
   "cell_type": "code",
   "execution_count": 64,
   "metadata": {},
   "outputs": [
    {
     "ename": "NameError",
     "evalue": "name 'kekulize' is not defined",
     "output_type": "error",
     "traceback": [
      "\u001b[1;31m---------------------------------------------------------------------------\u001b[0m",
      "\u001b[1;31mNameError\u001b[0m                                 Traceback (most recent call last)",
      "\u001b[1;32mc:\\users\\ghanendra\\pymol\\envs\\my-rdkit-env\\lib\\site-packages\\IPython\\core\\formatters.py\u001b[0m in \u001b[0;36m__call__\u001b[1;34m(self, obj)\u001b[0m\n\u001b[0;32m    343\u001b[0m             \u001b[0mmethod\u001b[0m \u001b[1;33m=\u001b[0m \u001b[0mget_real_method\u001b[0m\u001b[1;33m(\u001b[0m\u001b[0mobj\u001b[0m\u001b[1;33m,\u001b[0m \u001b[0mself\u001b[0m\u001b[1;33m.\u001b[0m\u001b[0mprint_method\u001b[0m\u001b[1;33m)\u001b[0m\u001b[1;33m\u001b[0m\u001b[1;33m\u001b[0m\u001b[0m\n\u001b[0;32m    344\u001b[0m             \u001b[1;32mif\u001b[0m \u001b[0mmethod\u001b[0m \u001b[1;32mis\u001b[0m \u001b[1;32mnot\u001b[0m \u001b[1;32mNone\u001b[0m\u001b[1;33m:\u001b[0m\u001b[1;33m\u001b[0m\u001b[1;33m\u001b[0m\u001b[0m\n\u001b[1;32m--> 345\u001b[1;33m                 \u001b[1;32mreturn\u001b[0m \u001b[0mmethod\u001b[0m\u001b[1;33m(\u001b[0m\u001b[1;33m)\u001b[0m\u001b[1;33m\u001b[0m\u001b[1;33m\u001b[0m\u001b[0m\n\u001b[0m\u001b[0;32m    346\u001b[0m             \u001b[1;32mreturn\u001b[0m \u001b[1;32mNone\u001b[0m\u001b[1;33m\u001b[0m\u001b[1;33m\u001b[0m\u001b[0m\n\u001b[0;32m    347\u001b[0m         \u001b[1;32melse\u001b[0m\u001b[1;33m:\u001b[0m\u001b[1;33m\u001b[0m\u001b[1;33m\u001b[0m\u001b[0m\n",
      "\u001b[1;32mc:\\users\\ghanendra\\pymol\\envs\\my-rdkit-env\\lib\\site-packages\\rdkit\\Chem\\Draw\\IPythonConsole.py\u001b[0m in \u001b[0;36m_toSVG\u001b[1;34m(mol)\u001b[0m\n\u001b[0;32m    113\u001b[0m   \u001b[1;32melse\u001b[0m\u001b[1;33m:\u001b[0m\u001b[1;33m\u001b[0m\u001b[1;33m\u001b[0m\u001b[0m\n\u001b[0;32m    114\u001b[0m     \u001b[0mhighlightAtoms\u001b[0m \u001b[1;33m=\u001b[0m \u001b[1;33m[\u001b[0m\u001b[1;33m]\u001b[0m\u001b[1;33m\u001b[0m\u001b[1;33m\u001b[0m\u001b[0m\n\u001b[1;32m--> 115\u001b[1;33m   \u001b[1;32mreturn\u001b[0m \u001b[0mDraw\u001b[0m\u001b[1;33m.\u001b[0m\u001b[0m_moltoSVG\u001b[0m\u001b[1;33m(\u001b[0m\u001b[0mmol\u001b[0m\u001b[1;33m,\u001b[0m\u001b[0mmolSize\u001b[0m\u001b[1;33m,\u001b[0m\u001b[0mhighlightAtoms\u001b[0m\u001b[1;33m,\u001b[0m\u001b[1;34m\"\"\u001b[0m\u001b[1;33m,\u001b[0m\u001b[0mkekulize\u001b[0m\u001b[1;33m)\u001b[0m\u001b[1;33m\u001b[0m\u001b[1;33m\u001b[0m\u001b[0m\n\u001b[0m\u001b[0;32m    116\u001b[0m \u001b[1;33m\u001b[0m\u001b[0m\n\u001b[0;32m    117\u001b[0m \u001b[1;33m\u001b[0m\u001b[0m\n",
      "\u001b[1;31mNameError\u001b[0m: name 'kekulize' is not defined"
     ]
    },
    {
     "data": {
      "image/png": "[encoded data removed]",
      "text/plain": [
       "<rdkit.Chem.rdchem.Mol at 0x19f9580ad50>"
      ]
     },
     "execution_count": 64,
     "metadata": {},
     "output_type": "execute_result"
    }
   ],
   "source": [
    "#117\n",
    "#CC1=C2CC3(N)OC=C2C=C(O)C13\n",
    "m = Chem.MolFromSmiles('C=NON(OONC1N=C(OO)ON1O)N(C)ON')\n",
    "m"
   ]
  },
  {
   "cell_type": "markdown",
   "metadata": {},
   "source": [
    "###### Possible SMILES generated strings for each episode at different iterations"
   ]
  },
  {
   "cell_type": "code",
   "execution_count": 16,
   "metadata": {
    "scrolled": false
   },
   "outputs": [
    {
     "name": "stdout",
     "output_type": "stream",
     "text": [
      "States 0 : C\n",
      "States 1 : C\n",
      "States 2 : C=C\n",
      "States 3 : CC\n",
      "States 4 : C=CC\n",
      "States 5 : C=CC\n",
      "States 6 : C=C\n",
      "States 7 : C=C=O\n",
      "States 8 : N=C=C=O\n",
      "States 9 : C=C=N\n",
      "States 10 : N=C=C=N\n",
      "States 11 : N=C=C=N\n",
      "States 12 : N=CC=N\n",
      "States 13 : CN=CC=N\n",
      "States 14 : CN=C(N)C=N\n",
      "States 15 : N=C1CN=C1N\n",
      "States 16 : N=c1nc(N)c1=N\n",
      "States 17 : N=C1N=C(N)C1N\n",
      "States 18 : CNC1C(=N)N=C1N\n",
      "States 19 : N#CNC1C(=N)N=C1N\n",
      "States 20 : N#CNCC(N)=NC=N\n",
      "States 21 : N#CNCC(N)=NC=N\n",
      "States 22 : N#CNCC=NC=N\n",
      "States 23 : CN=CN=CCNC#N\n",
      "States 24 : CN=CN=CCNC\n",
      "States 25 : CN=C(N)N=CCNC\n",
      "States 26 : CNCC=NC1=NC=N1\n",
      "States 27 : CN1CC1=NC1=NC=N1\n",
      "States 28 : CN1CC1=NC1=NC=N1\n",
      "States 29 : N#CN1CC1=NC1=NC=N1\n",
      "States 30 : CC1C(=NC2=NC=N2)N1C#N\n",
      "States 31 : CC1C(=NC=NC=N)N1C#N\n",
      "States 32 : CC1C(=Nc2nc2=N)N1C#N\n",
      "States 33 : N#CN1C(=Nc2nc2=N)C1CO\n",
      "States 34 : N#CN1C(=Nc2nc2=N)C1CON\n",
      "States 35 : CC(ON)C1C(=Nc2nc2=N)N1C#N\n",
      "States 36 : CC(ON)C1C(=NC2=NC2N)N1C#N\n",
      "States 37 : C#CC(ON)C1C(=NC2=NC2N)N1C#N\n",
      "States 38 : C#CC(ON)C(C=NC1=NC1N)NC#N\n",
      "States 39 : C#CC1ONC(=NC2=NC2N)C1NC#N\n",
      "States 40 : N\n",
      "States 41 : NN\n",
      "States 42 : NN\n",
      "States 43 : CNN\n",
      "States 44 : CN\n",
      "States 45 : NC=O\n",
      "States 46 : CN\n",
      "States 47 : C#N\n",
      "States 48 : N\n",
      "States 49 : N#N\n",
      "States 50 : N=N\n",
      "States 51 : N#N\n",
      "States 52 : NN\n",
      "States 53 : NN=O\n",
      "States 54 : N=O\n",
      "States 55 : NN=O\n",
      "States 56 : NNO\n",
      "States 57 : C=NNO\n",
      "States 58 : C=NN\n",
      "States 59 : C=NN=O\n",
      "States 60 : C=NNO\n",
      "States 61 : C=NNOO\n",
      "States 62 : CNNOO\n",
      "States 63 : CNNOON\n",
      "States 64 : c1noo[nH][nH]1\n",
      "States 65 : Cc1noo[nH][nH]1\n",
      "States 66 : N#Cc1noo[nH][nH]1\n",
      "States 67 : N#Cc1noo[nH][nH]1\n",
      "States 68 : Cc1noo[nH][nH]1\n",
      "States 69 : C#Cc1noo[nH][nH]1\n",
      "States 70 : C=Cc1noo[nH][nH]1\n",
      "States 71 : C=C(N)c1noo[nH][nH]1\n",
      "States 72 : CC(N)c1noo[nH][nH]1\n",
      "States 73 : CC(N=O)c1noo[nH][nH]1\n",
      "States 74 : N=CC(N=O)c1noo[nH][nH]1\n",
      "States 75 : N=C(O)C(N=O)c1noo[nH][nH]1\n",
      "States 76 : O=NC(C(O)=NO)c1noo[nH][nH]1\n",
      "States 77 : ON=C(O)C(NO)c1noo[nH][nH]1\n",
      "States 78 : CON=C(O)C(NO)c1noo[nH][nH]1\n",
      "States 79 : ONC1(c2noo[nH][nH]2)CON=C1O\n",
      "States 80 : C\n",
      "States 81 : C\n",
      "States 82 : C=O\n",
      "States 83 : CC=O\n",
      "States 84 : C#CC=O\n",
      "States 85 : O=c1c#c1\n",
      "States 86 : O=c1cc1\n",
      "States 87 : Cc1cc1=O\n",
      "States 88 : O=c1cc1CO\n",
      "States 89 : OCC1=CC1\n",
      "States 90 : C=C(C)CO\n",
      "States 91 : OCC1=C=C1\n",
      "States 92 : C=C(O)C1=C=C1\n",
      "States 93 : C=C(O)C1=C=C1O\n",
      "States 94 : C=C(O)C1=C=C1O\n",
      "States 95 : C=C(OC)C1=C=C1O\n",
      "States 96 : C=C(OC)C1=C=C1\n",
      "States 97 : C1=CC=1C1=CCO1\n",
      "States 98 : C1=CC=1C1=C=CO1\n",
      "States 99 : CC1=C=C1C1=C=CO1\n",
      "States 100 : N#CC1=C=C1C1=C=CO1\n",
      "States 101 : N#CC1=C=C1C1=C=CO1\n",
      "States 102 : C=C=C(O)C1=C=C1C#N\n",
      "States 103 : C=C=C(O)C1=C=C1C#N\n",
      "States 104 : C=C=C(O)C1=C=C1C#N\n",
      "States 105 : C=C=C(O)CC(=C)C#N\n",
      "States 106 : C=C(O)CC(=C)C#N\n",
      "States 107 : C=C(O)C(C)C(=C)C#N\n",
      "States 108 : C=C(C#N)C1COC1=C\n",
      "States 109 : N#CC1=CC=C2OCC12\n",
      "States 110 : CC1C(O)=CC=C1C#N\n",
      "States 111 : N#CC1=CC=C(O)C1CO\n",
      "States 112 : N#CC1=CCC(O)C1CO\n",
      "States 113 : C=C(O)C1C(C#N)=CCC1O\n",
      "States 114 : C=C(O)C1C(C#N)=CCC1OC\n",
      "States 115 : C=C(O)C1C(C#N)=C(C)CC1OC\n",
      "States 116 : COC1CC2=C(C#N)C1C(O)=CC2\n",
      "States 117 : N#CC1=C2CC3OC=C2C=C(O)C13\n",
      "States 118 : CC1=C2CC3OC=C2C=C(O)C13\n",
      "States 119 : CC1=C2CC3(N)OC=C2C=C(O)C13\n",
      "States 120 : O\n",
      "States 121 : CO\n",
      "States 122 : C=O\n",
      "States 123 : O\n",
      "States 124 : OO\n",
      "States 125 : O=O\n",
      "States 126 : O\n",
      "States 127 : O=O\n",
      "States 128 : O\n",
      "States 129 : N=O\n",
      "States 130 : NN=O\n",
      "States 131 : NNO\n",
      "States 132 : ONNO\n",
      "States 133 : O=NNO\n",
      "States 134 : O=NN=O\n",
      "States 135 : O=NN=O\n",
      "States 136 : O=NN=O\n",
      "States 137 : O=NNO\n",
      "States 138 : O=NN=O\n",
      "States 139 : O=NN=O\n",
      "States 140 : O=NNO\n",
      "States 141 : NNO\n",
      "States 142 : O=NNO\n",
      "States 143 : ONNO\n",
      "States 144 : On1[nH]o1\n",
      "States 145 : [nH]1[nH]o1\n",
      "States 146 : [nH]1[nH]o1\n",
      "States 147 : [nH]1[nH]o1\n",
      "States 148 : [nH]1[nH]o1\n",
      "States 149 : [nH]1[nH]o1\n",
      "States 150 : [nH]1[nH]o1\n",
      "States 151 : [nH]1[nH]o1\n",
      "States 152 : [nH]1[nH]o1\n",
      "States 153 : [nH]1[nH]o1\n",
      "States 154 : [nH]1[nH]o1\n",
      "States 155 : [nH]1[nH]o1\n",
      "States 156 : [nH]1[nH]o1\n",
      "States 157 : [nH]1[nH]o1\n",
      "States 158 : [nH]1[nH]o1\n",
      "States 159 : [nH]1[nH]o1\n",
      "States 160 : O\n",
      "States 161 : O=O\n",
      "States 162 : O\n",
      "States 163 : OO\n",
      "States 164 : O=O\n",
      "States 165 : OO\n",
      "States 166 : O\n",
      "States 167 : O=O\n",
      "States 168 : O=O\n",
      "States 169 : O\n",
      "States 170 : CO\n",
      "States 171 : COO\n",
      "States 172 : COOO\n",
      "States 173 : COOOO\n",
      "States 174 : C#COOOO\n",
      "States 175 : C#COOOOO\n",
      "States 176 : C#COOOO\n",
      "States 177 : C=COOOO\n",
      "States 178 : CCOOOO\n",
      "States 179 : C=COOOO\n",
      "States 180 : C#COOOO\n",
      "States 181 : NC#COOOO\n",
      "States 182 : NC#COOO\n",
      "States 183 : C#COOO\n",
      "States 184 : C1#COOO1\n",
      "States 185 : C1=COOO1\n",
      "States 186 : C1=COOO1\n",
      "States 187 : C1=COOO1\n",
      "States 188 : NC1=COOO1\n",
      "States 189 : C=NC1=COOO1\n",
      "States 190 : NC=NC1=COOO1\n",
      "States 191 : C=NC1=COOO1\n",
      "States 192 : N=C=NC1=COOO1\n",
      "States 193 : CN=C=NC1=COOO1\n",
      "States 194 : C1=NCC2=C(N=1)OOO2\n",
      "States 195 : CC1=C(N=C=N)OOO1\n",
      "States 196 : CCOOOCN=C=N\n",
      "States 197 : CCOOOC(N)N=C=N\n",
      "States 198 : C=NC(N)OOOCC\n",
      "States 199 : C=NC(N)(O)OOOCC\n",
      "reward of final molecule at episode 4 is 0.175119167945525\n",
      "mean loss in episode 4 is 0.007948778104037046\n",
      "States 200 : C\n",
      "States 201 : CC\n",
      "States 202 : C#C\n",
      "States 203 : C#CO\n",
      "States 204 : C=CO\n",
      "States 205 : C=C\n",
      "States 206 : C=CC\n",
      "States 207 : C1=CC=1\n",
      "States 208 : C1=CC1\n",
      "States 209 : OC1=CC1\n",
      "States 210 : OOC1=CC1\n",
      "States 211 : OOC1=C(O)C1\n",
      "States 212 : CC(O)=COO\n",
      "States 213 : O=CC(O)=COO\n",
      "States 214 : O=c1c(O)c1OO\n",
      "States 215 : COc1c(OO)c1=O\n",
      "States 216 : NCOc1c(OO)c1=O\n",
      "States 217 : NCOC1=C(OO)C1O\n",
      "States 218 : NCOC(=COO)CO\n",
      "States 219 : NNCOC(=COO)CO\n",
      "States 220 : NNCOC(=COO)C(N)O\n",
      "States 221 : COOC=C(OCNN)C(N)O\n",
      "States 222 : COOC=C(OCNN)C(C)(N)O\n",
      "States 223 : COOC=C(OCNN)C(C)N\n",
      "States 224 : COOC=C(OC=NN)C(C)N\n",
      "States 225 : COOC=C(OC(O)=NN)C(C)N\n",
      "States 226 : C=CC(N)C(=COOC)OC(O)=NN\n",
      "States 227 : C=C(N)C(N)C(=COOC)OC(O)=NN\n",
      "States 228 : C=C1NNC1C(=COOC)OC(O)=NN\n",
      "States 229 : C=C=C1NNC1C(=COOC)OC(O)=NN\n",
      "States 230 : C=C=C=C1NNC1C(=COOC)OC(O)=NN\n",
      "States 231 : COOC=C(OC(O)=NN)C12C=C=C=C1NN2\n",
      "States 232 : COOC1=C(C23C=C=C=C2NN3)OC(O)=NN1\n",
      "States 233 : COOC1=C(C23C=C=C=C2NN3)OC(O)=NN1\n",
      "States 234 : COOC1=C(C23C=C=C=C2NN3C)OC(O)=NN1\n",
      "States 235 : COOC1=C(C23C=C=C=C2N(O)N3C)OC(O)=NN1\n",
      "States 236 : COOC1=C(C23C4=C=C=C2N(O)N3C4)OC(O)=NN1\n",
      "States 237 : COOC1=C(C23C4=C=C=C2N(ON)N3C4)OC(O)=NN1\n",
      "States 238 : COOC(N)=C(OC(=N)O)C12C3=C=C=C1N(ON)N2C3\n",
      "States 239 : COOC(NO)=C(OC(=N)O)C12C3=C=C=C1N(ON)N2C3\n",
      "States 240 : N\n",
      "States 241 : N=O\n",
      "States 242 : NN=O\n",
      "States 243 : NNO\n",
      "States 244 : CN(N)O\n",
      "States 245 : CN(N)ON\n",
      "States 246 : CN(N)O\n",
      "States 247 : NN1CO1\n",
      "States 248 : CNN1CO1\n",
      "States 249 : CN1C2ON21\n",
      "States 250 : CN1CON1\n",
      "States 251 : CN(C)NO\n",
      "States 252 : CN(C)N\n",
      "States 253 : CN1C=N1\n",
      "States 254 : C1C2=NN12\n",
      "States 255 : C1C2NN12\n",
      "States 256 : C1C2NN12\n",
      "States 257 : CN1CN1\n",
      "States 258 : C=CN1CN1\n",
      "States 259 : C=CN1NC1N\n",
      "States 260 : NC=CN1NC1N\n",
      "States 261 : C=NC=CN1NC1N\n",
      "States 262 : C=NC=CN1NC1(C)N\n",
      "States 263 : C=NC=CN1NC1(C)N=O\n",
      "States 264 : C=NC1=CN2NC2(N=O)C1\n",
      "States 265 : C=NC1=CNNC(N=O)C1\n",
      "States 266 : C=NCCC(N=O)NNC\n",
      "States 267 : CNNC(CC1C=N1)N=O\n",
      "States 268 : N#CNNC(CC1C=N1)N=O\n",
      "States 269 : N#CNNC(C=C1C=N1)N=O\n",
      "States 270 : N#CNNC(C=C1C=N1)NO\n",
      "States 271 : N#CN1NC(NO)C=C2N=C21\n",
      "States 272 : N#CN1NC(N=O)C=C2N=C21\n",
      "States 273 : N#CN1CC(N)=CC(N=O)N1\n",
      "States 274 : N#CN1CC(N)=C=C(N=O)N1\n",
      "States 275 : CN1C(N=O)=C=C(N)CN1C#N\n",
      "States 276 : CN1C(N=O)=C=C(N)CN1CN\n",
      "States 277 : CN1C(N=O)=C=CCN1CN\n",
      "States 278 : CNN(CN)CC=C=CN=O\n",
      "States 279 : CNN(CN)C1C=C=C1N=O\n",
      "reward of final molecule at episode 6 is 0.2483216270650011\n",
      "mean loss in episode 6 is 0.002917812205851078\n",
      "States 280 : C\n",
      "States 281 : C\n",
      "States 282 : C=N\n",
      "States 283 : N=C=N\n",
      "States 284 : CN=C=N\n",
      "States 285 : N=C=NCN\n",
      "States 286 : N=CNCN\n",
      "States 287 : N#CNC=N\n",
      "States 288 : N#CNC=NO\n",
      "States 289 : N#CNC=NOO\n",
      "States 290 : CNC=NOO\n",
      "States 291 : CNC=NOO\n",
      "States 292 : CNC=NOON\n",
      "States 293 : CNC=NOONN\n",
      "States 294 : CNC=NOON=N\n",
      "States 295 : N=NOON=CNCO\n",
      "States 296 : NNOON=CNCO\n",
      "States 297 : NNOON=C(N)NCO\n",
      "States 298 : NNOON=C(NO)NCO\n",
      "States 299 : NNOON=C1NOC(O)N1\n",
      "States 300 : CN1OC(O)NC1=NOONN\n",
      "States 301 : NNOON=C1NC(O)ON1C=O\n",
      "States 302 : NNOON=C1NC2OC(=O)N1O2\n",
      "States 303 : NNOON=c1nc2on1C(=O)O2\n",
      "States 304 : O=NNOON=c1nc2on1C(=O)O2\n",
      "States 305 : O=COc1nc(=NOONN=O)[nH]o1\n",
      "States 306 : COc1nc(=NOONN=O)[nH]o1\n",
      "States 307 : O=NNOON=c1nc(O)o[nH]1\n",
      "States 308 : O=NNOON=c1nco[nH]1\n",
      "States 309 : O=NNOON=c1nc(O)o[nH]1\n",
      "States 310 : O=NN(O)OON=c1nc(O)o[nH]1\n",
      "States 311 : NN(O)OON=c1nc(O)o[nH]1\n",
      "States 312 : NON(N)OON=c1nc(O)o[nH]1\n",
      "States 313 : NON(NO)OON=c1nc(O)o[nH]1\n",
      "States 314 : NON(NO)OONC1N=C(O)ON1\n",
      "States 315 : NONN(ON)OONC1N=C(O)ON1\n",
      "States 316 : NONN(ON)OONC1N=C(OO)ON1\n",
      "States 317 : NONN(ON)OONC1N=C(OO)ON1O\n",
      "States 318 : CN(ON)N(ON)OONC1N=C(OO)ON1O\n",
      "States 319 : C=NON(OONC1N=C(OO)ON1O)N(C)ON\n",
      "States 320 : C\n",
      "States 321 : CC\n",
      "States 322 : C=CC\n",
      "States 323 : CCC\n",
      "States 324 : CCC=O\n",
      "States 325 : O=CCC=O\n",
      "States 326 : O=CC(O)C=O\n",
      "States 327 : NC(O)(C=O)C=O\n",
      "States 328 : O=CC1(C=O)NO1\n",
      "States 329 : CC1(C=O)NO1\n",
      "States 330 : O=C1CC12NO2\n",
      "States 331 : O=C1CC1NO\n",
      "States 332 : O=C1CC12NO2\n",
      "States 333 : NC1C(=O)C12NO2\n",
      "States 334 : NC1C(=O)C12ON2N\n",
      "States 335 : N=NC1C(=O)C12ON2N\n",
      "States 336 : N=NCC1(C=O)ON1N\n",
      "States 337 : CC(N=N)C1(C=O)ON1N\n",
      "States 338 : CC(N=N)C1(C=O)ON1NO\n",
      "States 339 : CC(N)(N=N)C1(C=O)ON1NO\n",
      "States 340 : CC(=O)C1(C(C)(N)N=N)ON1NO\n",
      "States 341 : CC1(N=N)NCC(=O)C12ON2NO\n",
      "States 342 : CC1(N=N)NC(=O)C(=O)C12ON2NO\n",
      "States 343 : CC1(N=N)NC(=O)C(=O)C12ON2NO\n",
      "States 344 : CC1(N=N)NC(=O)C(=O)C12ON2N=O\n",
      "States 345 : CC1(N=NO)NC(=O)C(=O)C12ON2N=O\n",
      "States 346 : CC1(N=NON)NC(=O)C(=O)C12ON2N=O\n",
      "States 347 : CC1(N=NON)NC(=O)CC12ON2N=O\n",
      "States 348 : NON=NC12CN1C(=O)CC21ON1N=O\n",
      "States 349 : NON=NC12CN1C(=O)CC2ONN=O\n",
      "States 350 : NON=NC12CN1C(=O)CC21ON1N=O\n",
      "States 351 : NON=NC12C(=O)N1C(=O)CC21ON1N=O\n",
      "States 352 : O=NN1OC12CC(=O)N1C(=O)C12N=NONO\n",
      "States 353 : C=C1C(=O)N2C(=O)C2(N=NONO)C12ON2N=O\n",
      "States 354 : C=C1C(O)N2C(=O)C2(N=NONO)C12ON2N=O\n",
      "States 355 : C=C1C(ON)N2C(=O)C2(N=NONO)C12ON2N=O\n",
      "States 356 : NOC1C(=C=O)C2(ON2N=O)C2(N=NONO)C(=O)N12\n",
      "States 357 : NOC1C(=C=O)C(N(O)N=O)C2(N=NONO)C(=O)N12\n",
      "States 358 : NONON=NC12C(=O)N1C(ON)C(=C=O)C2N(O)N=O\n",
      "States 359 : NONON=NC12C(=O)N1C1ONC2(N(O)N=O)C1=C=O\n",
      "reward of final molecule at episode 8 is 0.09697592466982703\n",
      "mean loss in episode 8 is 0.0027662438806146383\n",
      "States 360 : O\n",
      "States 361 : OO\n",
      "States 362 : O=O\n",
      "States 363 : OO\n",
      "States 364 : OO\n",
      "States 365 : O\n",
      "States 366 : OO\n",
      "States 367 : O=O\n",
      "States 368 : O=O\n",
      "States 369 : O\n",
      "States 370 : O=O\n",
      "States 371 : OO\n",
      "States 372 : O\n",
      "States 373 : C=O\n",
      "States 374 : N=C=O\n",
      "States 375 : CN=C=O\n",
      "States 376 : C=NC\n",
      "States 377 : C=NCO\n",
      "States 378 : C=NC(=O)O\n",
      "States 379 : NC=NC(=O)O\n",
      "States 380 : N=C=NC(=O)O\n",
      "States 381 : N=C=NC(=O)O\n",
      "States 382 : C=NC(=O)O\n",
      "States 383 : N=C=NC(=O)O\n",
      "States 384 : NC=NC(=O)O\n",
      "States 385 : O=c1nc[nH]o1\n",
      "States 386 : C1=NCON1\n",
      "States 387 : OC1N=CNO1\n",
      "States 388 : NC1=NC(O)ON1\n",
      "States 389 : NC=NC(O)ON\n",
      "States 390 : NNC=NC(O)ON\n",
      "States 391 : NOC1N=CNNO1\n",
      "States 392 : CC1(ON)N=CNNO1\n",
      "States 393 : CC1(ON)N=C(O)NNO1\n",
      "States 394 : CC(N=C(O)NNO)ON\n",
      "States 395 : CC(N=C(NNO)OO)ON\n",
      "States 396 : CC(N=C(NNON)OO)ON\n",
      "States 397 : CCC(N=C(NNON)OO)ON\n",
      "States 398 : CCC(N=C(NNON=N)OO)ON\n",
      "States 399 : CCC(O)N=C(NNON=N)OO\n"
     ]
    }
   ],
   "source": [
    "# Run the main file present in the home directory.\n",
    "#Runnning for only 24 episodes\n",
    "!python main.py"
   ]
  }
 ],
 "metadata": {
  "kernelspec": {
   "display_name": "Python 3",
   "language": "python",
   "name": "python3"
  },
  "language_info": {
   "codemirror_mode": {
    "name": "ipython",
    "version": 3
   },
   "file_extension": ".py",
   "mimetype": "text/x-python",
   "name": "python",
   "nbconvert_exporter": "python",
   "pygments_lexer": "ipython3",
   "version": "3.6.11"
  }
 },
 "nbformat": 4,
 "nbformat_minor": 4
}
